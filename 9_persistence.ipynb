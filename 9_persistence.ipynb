{
 "cells": [
  {
   "cell_type": "code",
   "execution_count": 1,
   "id": "9f5fbc56",
   "metadata": {},
   "outputs": [],
   "source": [
    "from langgraph.graph import StateGraph, START, END\n",
    "from typing import TypedDict, Literal\n",
    "from dotenv import load_dotenv\n",
    "from langchain_openai.chat_models import ChatOpenAI\n",
    "from langgraph.checkpoint.memory import InMemorySaver"
   ]
  },
  {
   "cell_type": "code",
   "execution_count": 2,
   "id": "ee3f4012",
   "metadata": {},
   "outputs": [
    {
     "data": {
      "text/plain": [
       "True"
      ]
     },
     "execution_count": 2,
     "metadata": {},
     "output_type": "execute_result"
    }
   ],
   "source": [
    "load_dotenv()"
   ]
  },
  {
   "cell_type": "code",
   "execution_count": 3,
   "id": "fd2b81b0",
   "metadata": {},
   "outputs": [],
   "source": [
    "llm = ChatOpenAI()"
   ]
  },
  {
   "cell_type": "code",
   "execution_count": 4,
   "id": "b2891c3d",
   "metadata": {},
   "outputs": [],
   "source": [
    "class JokeState(TypedDict):\n",
    "    topic: str\n",
    "    joke: str\n",
    "    explanation: str"
   ]
  },
  {
   "cell_type": "code",
   "execution_count": 5,
   "id": "d55aeeef",
   "metadata": {},
   "outputs": [],
   "source": [
    "def generate_joke(state: JokeState):\n",
    "    prompt = f\"generate a joke on the following topic: {state[\"topic\"]}\"\n",
    "    response = llm.invoke(prompt)\n",
    "    return {'joke': response.content}\n",
    "\n",
    "def generate_explanation(state: JokeState):\n",
    "    prompt = f\"write an explanation for the joke: {state['joke']}\"\n",
    "    response = llm.invoke(prompt)\n",
    "    return {'explanation': response.content}"
   ]
  },
  {
   "cell_type": "code",
   "execution_count": 6,
   "id": "7dc6355b",
   "metadata": {},
   "outputs": [],
   "source": [
    "checkpointer = InMemorySaver()\n",
    "# Create graph\n",
    "graph = StateGraph(state_schema=JokeState)\n",
    "\n",
    "# Create nodes\n",
    "graph.add_node(\"generate_joke\", generate_joke)\n",
    "graph.add_node(\"generate_explanation\", generate_explanation)\n",
    "\n",
    "# Create edges\n",
    "graph.add_edge(START, \"generate_joke\")\n",
    "graph.add_edge(\"generate_joke\",\"generate_explanation\")\n",
    "graph.add_edge(\"generate_explanation\", END)\n",
    "\n",
    "# compile graph\n",
    "workflow = graph.compile(checkpointer=checkpointer)"
   ]
  },
  {
   "cell_type": "code",
   "execution_count": 7,
   "id": "5802328c",
   "metadata": {},
   "outputs": [
    {
     "name": "stdout",
     "output_type": "stream",
     "text": [
      "{'topic': 'american football', 'joke': 'Why did the football coach go to the bank?\\n\\nTo get his quarterback!', 'explanation': 'This joke plays on the double meaning of the word \"quarterback.\" In football, the quarterback is a position on the field responsible for leading the team\\'s offense. However, in financial terms, a quarterback can also refer to a backer of a bank loan or investment. Therefore, the joke suggests that the football coach went to the bank to get his quarterback for the game, but in reality, he went to get a financial backer or loan.'}\n"
     ]
    }
   ],
   "source": [
    "config1 = {\"configurable\": {\"thread_id\": \"1\"}}\n",
    "final_state = workflow.invoke({\"topic\": \"american football\"}, config=config1)\n",
    "print(final_state)"
   ]
  },
  {
   "cell_type": "code",
   "execution_count": 8,
   "id": "85d392f8",
   "metadata": {},
   "outputs": [
    {
     "data": {
      "text/plain": [
       "StateSnapshot(values={'topic': 'american football', 'joke': 'Why did the football coach go to the bank?\\n\\nTo get his quarterback!', 'explanation': 'This joke plays on the double meaning of the word \"quarterback.\" In football, the quarterback is a position on the field responsible for leading the team\\'s offense. However, in financial terms, a quarterback can also refer to a backer of a bank loan or investment. Therefore, the joke suggests that the football coach went to the bank to get his quarterback for the game, but in reality, he went to get a financial backer or loan.'}, next=(), config={'configurable': {'thread_id': '1', 'checkpoint_ns': '', 'checkpoint_id': '1f086a8e-cea5-6e1f-8002-a489ee54f550'}}, metadata={'source': 'loop', 'step': 2, 'parents': {}}, created_at='2025-08-31T20:27:33.589535+00:00', parent_config={'configurable': {'thread_id': '1', 'checkpoint_ns': '', 'checkpoint_id': '1f086a8e-bb43-6751-8001-24afb9f7263d'}}, tasks=(), interrupts=())"
      ]
     },
     "execution_count": 8,
     "metadata": {},
     "output_type": "execute_result"
    }
   ],
   "source": [
    "workflow.get_state(config=config1)"
   ]
  },
  {
   "cell_type": "code",
   "execution_count": 9,
   "id": "c8f08d14",
   "metadata": {},
   "outputs": [
    {
     "data": {
      "text/plain": [
       "[StateSnapshot(values={'topic': 'american football', 'joke': 'Why did the football coach go to the bank?\\n\\nTo get his quarterback!', 'explanation': 'This joke plays on the double meaning of the word \"quarterback.\" In football, the quarterback is a position on the field responsible for leading the team\\'s offense. However, in financial terms, a quarterback can also refer to a backer of a bank loan or investment. Therefore, the joke suggests that the football coach went to the bank to get his quarterback for the game, but in reality, he went to get a financial backer or loan.'}, next=(), config={'configurable': {'thread_id': '1', 'checkpoint_ns': '', 'checkpoint_id': '1f086a8e-cea5-6e1f-8002-a489ee54f550'}}, metadata={'source': 'loop', 'step': 2, 'parents': {}}, created_at='2025-08-31T20:27:33.589535+00:00', parent_config={'configurable': {'thread_id': '1', 'checkpoint_ns': '', 'checkpoint_id': '1f086a8e-bb43-6751-8001-24afb9f7263d'}}, tasks=(), interrupts=()),\n",
       " StateSnapshot(values={'topic': 'american football', 'joke': 'Why did the football coach go to the bank?\\n\\nTo get his quarterback!'}, next=('generate_explanation',), config={'configurable': {'thread_id': '1', 'checkpoint_ns': '', 'checkpoint_id': '1f086a8e-bb43-6751-8001-24afb9f7263d'}}, metadata={'source': 'loop', 'step': 1, 'parents': {}}, created_at='2025-08-31T20:27:31.556936+00:00', parent_config={'configurable': {'thread_id': '1', 'checkpoint_ns': '', 'checkpoint_id': '1f086a8e-b56a-6090-8000-39068bfda22c'}}, tasks=(PregelTask(id='23d14080-ba4b-3026-ae51-18f0f8a0cb75', name='generate_explanation', path=('__pregel_pull', 'generate_explanation'), error=None, interrupts=(), state=None, result={'explanation': 'This joke plays on the double meaning of the word \"quarterback.\" In football, the quarterback is a position on the field responsible for leading the team\\'s offense. However, in financial terms, a quarterback can also refer to a backer of a bank loan or investment. Therefore, the joke suggests that the football coach went to the bank to get his quarterback for the game, but in reality, he went to get a financial backer or loan.'}),), interrupts=()),\n",
       " StateSnapshot(values={'topic': 'american football'}, next=('generate_joke',), config={'configurable': {'thread_id': '1', 'checkpoint_ns': '', 'checkpoint_id': '1f086a8e-b56a-6090-8000-39068bfda22c'}}, metadata={'source': 'loop', 'step': 0, 'parents': {}}, created_at='2025-08-31T20:27:30.943577+00:00', parent_config={'configurable': {'thread_id': '1', 'checkpoint_ns': '', 'checkpoint_id': '1f086a8e-b565-6c39-bfff-8067e2baaae2'}}, tasks=(PregelTask(id='9bdb0a9c-ddcd-0aa7-15ee-1e95a9fe9c4e', name='generate_joke', path=('__pregel_pull', 'generate_joke'), error=None, interrupts=(), state=None, result={'joke': 'Why did the football coach go to the bank?\\n\\nTo get his quarterback!'}),), interrupts=()),\n",
       " StateSnapshot(values={}, next=('__start__',), config={'configurable': {'thread_id': '1', 'checkpoint_ns': '', 'checkpoint_id': '1f086a8e-b565-6c39-bfff-8067e2baaae2'}}, metadata={'source': 'input', 'step': -1, 'parents': {}}, created_at='2025-08-31T20:27:30.941836+00:00', parent_config=None, tasks=(PregelTask(id='1966076a-7442-d1b8-7ea8-4c4d0e23abad', name='__start__', path=('__pregel_pull', '__start__'), error=None, interrupts=(), state=None, result={'topic': 'american football'}),), interrupts=())]"
      ]
     },
     "execution_count": 9,
     "metadata": {},
     "output_type": "execute_result"
    }
   ],
   "source": [
    "list(workflow.get_state_history(config=config1))"
   ]
  }
 ],
 "metadata": {
  "kernelspec": {
   "display_name": "myvenv",
   "language": "python",
   "name": "python3"
  },
  "language_info": {
   "codemirror_mode": {
    "name": "ipython",
    "version": 3
   },
   "file_extension": ".py",
   "mimetype": "text/x-python",
   "name": "python",
   "nbconvert_exporter": "python",
   "pygments_lexer": "ipython3",
   "version": "3.13.5"
  }
 },
 "nbformat": 4,
 "nbformat_minor": 5
}
