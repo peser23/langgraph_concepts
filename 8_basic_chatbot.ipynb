{
 "cells": [
  {
   "cell_type": "code",
   "execution_count": 18,
   "id": "c99a3556",
   "metadata": {},
   "outputs": [],
   "source": [
    "from langgraph.graph import StateGraph, START, END\n",
    "from typing import TypedDict, Literal, Annotated\n",
    "from dotenv import load_dotenv\n",
    "from langchain_openai import ChatOpenAI\n",
    "from langchain_core.messages import SystemMessage, AIMessage, HumanMessage, BaseMessage\n",
    "from langgraph.checkpoint.memory import MemorySaver"
   ]
  },
  {
   "cell_type": "code",
   "execution_count": 2,
   "id": "ab44500a",
   "metadata": {},
   "outputs": [
    {
     "data": {
      "text/plain": [
       "True"
      ]
     },
     "execution_count": 2,
     "metadata": {},
     "output_type": "execute_result"
    }
   ],
   "source": [
    "load_dotenv()"
   ]
  },
  {
   "cell_type": "code",
   "execution_count": 9,
   "id": "4368db8d",
   "metadata": {},
   "outputs": [],
   "source": [
    "from langgraph.graph import add_messages\n",
    "class ChatState(TypedDict):\n",
    "    messages: Annotated[list[BaseMessage], add_messages]"
   ]
  },
  {
   "cell_type": "code",
   "execution_count": 10,
   "id": "16d0873c",
   "metadata": {},
   "outputs": [],
   "source": [
    "llm = ChatOpenAI()\n",
    "def chat_node(state: ChatState):\n",
    "    messages = state['messages']\n",
    "    response = llm.invoke(messages)\n",
    "    return {'messages': [response]}\n"
   ]
  },
  {
   "cell_type": "code",
   "execution_count": 19,
   "id": "7bec8550",
   "metadata": {},
   "outputs": [],
   "source": [
    "# Create graph\n",
    "checkpointer = MemorySaver()\n",
    "graph = StateGraph(state_schema=ChatState)\n",
    "\n",
    "# Add nodes\n",
    "graph.add_node(\"chat_node\", chat_node)\n",
    "\n",
    "# add edges\n",
    "graph.add_edge(START, \"chat_node\")\n",
    "graph.add_edge(\"chat_node\", END)\n",
    "\n",
    "# compile the graph\n",
    "chatbot = graph.compile(checkpointer=checkpointer)"
   ]
  },
  {
   "cell_type": "code",
   "execution_count": 16,
   "id": "dba2dff8",
   "metadata": {},
   "outputs": [
    {
     "name": "stdout",
     "output_type": "stream",
     "text": [
      "{'messages': [HumanMessage(content='what is the capital of USA?', additional_kwargs={}, response_metadata={}, id='346ba444-7074-4326-8c0d-dcc2cdec9a9c'), AIMessage(content='The capital of the United States of America is Washington, D.C.', additional_kwargs={'refusal': None}, response_metadata={'token_usage': {'completion_tokens': 14, 'prompt_tokens': 14, 'total_tokens': 28, 'completion_tokens_details': {'accepted_prediction_tokens': 0, 'audio_tokens': 0, 'reasoning_tokens': 0, 'rejected_prediction_tokens': 0}, 'prompt_tokens_details': {'audio_tokens': 0, 'cached_tokens': 0}}, 'model_name': 'gpt-3.5-turbo-0125', 'system_fingerprint': None, 'id': 'chatcmpl-CA2a7avwdyWC9qb8tU3BdmUqXligz', 'service_tier': 'default', 'finish_reason': 'stop', 'logprobs': None}, id='run--a068bd10-103f-4b06-b194-9a2bce74f7f1-0', usage_metadata={'input_tokens': 14, 'output_tokens': 14, 'total_tokens': 28, 'input_token_details': {'audio': 0, 'cache_read': 0}, 'output_token_details': {'audio': 0, 'reasoning': 0}})]}\n"
     ]
    }
   ],
   "source": [
    "initial_state = {'messages': [HumanMessage(\"what is the capital of USA?\")]}\n",
    "final_state = chatbot.invoke(initial_state)\n",
    "print(final_state)"
   ]
  },
  {
   "cell_type": "code",
   "execution_count": 20,
   "id": "d000d9a5",
   "metadata": {},
   "outputs": [
    {
     "name": "stdout",
     "output_type": "stream",
     "text": [
      "User:  Hi. my name is Prav\n",
      "AI:  Hello Prav! Nice to meet you. How can I assist you today?\n",
      "User:  what is my name?\n",
      "AI:  Your name is Prav.\n",
      "User:  what is 10 + 9\n",
      "AI:  10 + 9 equals 19.\n",
      "User:  now add 2 to the result\n",
      "AI:  Adding 2 to the result of 10 + 9 (which is 19) equals 21.\n",
      "User:  bye\n"
     ]
    }
   ],
   "source": [
    "thread_id = '1'\n",
    "while True:\n",
    "    user_message = input('type here: ')\n",
    "    print('User: ', user_message)\n",
    "    if user_message.strip().lower() in ['exit', 'quit', 'bye']:\n",
    "        break\n",
    "\n",
    "    config = {'configurable': {'thread_id': thread_id}}\n",
    "    response = chatbot.invoke({'messages':[HumanMessage(content=user_message)]}, config=config)\n",
    "    print('AI: ', response['messages'][-1].content)\n"
   ]
  }
 ],
 "metadata": {
  "kernelspec": {
   "display_name": "myvenv",
   "language": "python",
   "name": "python3"
  },
  "language_info": {
   "codemirror_mode": {
    "name": "ipython",
    "version": 3
   },
   "file_extension": ".py",
   "mimetype": "text/x-python",
   "name": "python",
   "nbconvert_exporter": "python",
   "pygments_lexer": "ipython3",
   "version": "3.13.5"
  }
 },
 "nbformat": 4,
 "nbformat_minor": 5
}
